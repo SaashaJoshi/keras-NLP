{
  "nbformat": 4,
  "nbformat_minor": 0,
  "metadata": {
    "colab": {
      "name": "texts_to_sequences_Tokenizer.ipynb",
      "version": "0.3.2",
      "provenance": [],
      "private_outputs": true,
      "include_colab_link": true
    },
    "kernelspec": {
      "name": "python3",
      "display_name": "Python 3"
    },
    "accelerator": "GPU"
  },
  "cells": [
    {
      "cell_type": "markdown",
      "metadata": {
        "id": "view-in-github",
        "colab_type": "text"
      },
      "source": [
        "<a href=\"https://colab.research.google.com/github/SaashaJoshi/keras-NLP/blob/master/texts_to_sequences_Tokenizer.ipynb\" target=\"_parent\"><img src=\"https://colab.research.google.com/assets/colab-badge.svg\" alt=\"Open In Colab\"/></a>"
      ]
    },
    {
      "cell_type": "code",
      "metadata": {
        "id": "W7TvaMCbGGPY",
        "colab_type": "code",
        "colab": {}
      },
      "source": [
        "import tensorflow as tf\n",
        "from tensorflow import keras\n",
        "from keras.preprocessing.text import Tokenizer"
      ],
      "execution_count": 0,
      "outputs": []
    },
    {
      "cell_type": "code",
      "metadata": {
        "id": "JEW2OVr8HlB0",
        "colab_type": "code",
        "colab": {}
      },
      "source": [
        "sentences=[\n",
        "    'I love my dog.', \n",
        "    'You love my cat', \n",
        "    'He hates dogs and cats', \n",
        "    'Do you think my dog is amazing?'\n",
        "]"
      ],
      "execution_count": 0,
      "outputs": []
    },
    {
      "cell_type": "code",
      "metadata": {
        "id": "bq9dL6ZTHxD8",
        "colab_type": "code",
        "colab": {}
      },
      "source": [
        "# TOKENIZER API\n",
        "tokenizer=Tokenizer(num_words=100)\n",
        "tokenizer.fit_on_texts(sentences)\n",
        "word_index=tokenizer.word_index\n",
        "sequences=tokenizer.texts_to_sequences(sentences)"
      ],
      "execution_count": 0,
      "outputs": []
    },
    {
      "cell_type": "code",
      "metadata": {
        "id": "qiej_ANYIDLm",
        "colab_type": "code",
        "colab": {}
      },
      "source": [
        "print(word_index)\n",
        "print(sequences)"
      ],
      "execution_count": 0,
      "outputs": []
    },
    {
      "cell_type": "code",
      "metadata": {
        "id": "HueafcroIhpp",
        "colab_type": "code",
        "colab": {}
      },
      "source": [
        "# TESTING TOKENIZER ON TEST SENTENCES\n",
        "test_sentences=[\n",
        "    'She hates my dog', \n",
        "    'He loves my cat', \n",
        "    'I have an amazing cat', \n",
        "    'my dog loves me.'\n",
        "]\n",
        "\n",
        "test_sequences=tokenizer.texts_to_sequences(test_sentences)\n",
        "print(test_sequences)"
      ],
      "execution_count": 0,
      "outputs": []
    },
    {
      "cell_type": "code",
      "metadata": {
        "id": "GOq8-woiJD2j",
        "colab_type": "code",
        "colab": {}
      },
      "source": [
        "# ADDING OOV TOKEN\n",
        "tokenizer=Tokenizer(num_words=100, oov_token='<OOV>')\n",
        "tokenizer.fit_on_texts(sentences)\n",
        "word_index=tokenizer.word_index\n",
        "test_sequences=tokenizer.texts_to_sequences(test_sentences)\n",
        "\n",
        "print(word_index)\n",
        "print(test_sequences)"
      ],
      "execution_count": 0,
      "outputs": []
    },
    {
      "cell_type": "code",
      "metadata": {
        "id": "E3jRTwZJJ8g9",
        "colab_type": "code",
        "colab": {}
      },
      "source": [
        "# PADDING\n",
        "from keras.preprocessing.sequence import pad_sequences\n",
        "\n",
        "test_sequences=tokenizer.texts_to_sequences(test_sentences)\n",
        "padded=pad_sequences(test_sequences)\n",
        "\n",
        "print(padded)"
      ],
      "execution_count": 0,
      "outputs": []
    },
    {
      "cell_type": "code",
      "metadata": {
        "id": "4wMFI7j9M7QT",
        "colab_type": "code",
        "colab": {}
      },
      "source": [
        "padded=pad_sequences(test_sequences, padding='post')\n",
        "print(padded)"
      ],
      "execution_count": 0,
      "outputs": []
    },
    {
      "cell_type": "code",
      "metadata": {
        "id": "Z_lHh9WSOPWX",
        "colab_type": "code",
        "colab": {}
      },
      "source": [
        "#padded=pad_sequences(test_sequences, padding='post', maxlen=5) for sequences greater than length 5, information may be lost. By default info lost from start (pre)\n",
        "#padded=pad_sequences(test_sequences, padding='post', truncating='post'm, axlen=5) truncatinng argument makes lose info from end (post)"
      ],
      "execution_count": 0,
      "outputs": []
    }
  ]
}